{
  "nbformat": 4,
  "nbformat_minor": 0,
  "metadata": {
    "colab": {
      "provenance": [],
      "authorship_tag": "ABX9TyP5QgGVJsALcYtwL098IZ3R",
      "include_colab_link": true
    },
    "kernelspec": {
      "name": "python3",
      "display_name": "Python 3"
    },
    "language_info": {
      "name": "python"
    }
  },
  "cells": [
    {
      "cell_type": "markdown",
      "metadata": {
        "id": "view-in-github",
        "colab_type": "text"
      },
      "source": [
        "<a href=\"https://colab.research.google.com/github/KwangHyunNam/huggingFaceLLMCourse/blob/main/1_TRANSFORMER_MODELS.ipynb\" target=\"_parent\"><img src=\"https://colab.research.google.com/assets/colab-badge.svg\" alt=\"Open In Colab\"/></a>"
      ]
    },
    {
      "cell_type": "markdown",
      "source": [
        "# Introduction\n",
        "\n",
        "25.07.04: Completed reading"
      ],
      "metadata": {
        "id": "8ncuXvqNlW4D"
      }
    },
    {
      "cell_type": "markdown",
      "source": [
        "# Natural Language Processing and Large Language Models\n",
        "\n",
        "25.07.04: Viewed video named \"What is NLP?\""
      ],
      "metadata": {
        "id": "HTg63EoaoDcO"
      }
    },
    {
      "cell_type": "markdown",
      "source": [
        "# Transformers, what can they do?"
      ],
      "metadata": {
        "id": "Ygs4wJRgPg5T"
      }
    },
    {
      "cell_type": "markdown",
      "source": [
        "## Working with pipelines\n",
        "\n",
        "25.07.07/\n",
        "The most basic object in the Transformer library is the pipeline() function."
      ],
      "metadata": {
        "id": "91iDviaXQbY5"
      }
    },
    {
      "cell_type": "code",
      "execution_count": null,
      "metadata": {
        "id": "lEQmtEQHkznn"
      },
      "outputs": [],
      "source": []
    }
  ]
}