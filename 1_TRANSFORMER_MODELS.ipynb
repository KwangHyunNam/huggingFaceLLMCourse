{
  "nbformat": 4,
  "nbformat_minor": 0,
  "metadata": {
    "colab": {
      "provenance": [],
      "authorship_tag": "ABX9TyOId3RU6t2RmWFKmn+ro8yT",
      "include_colab_link": true
    },
    "kernelspec": {
      "name": "python3",
      "display_name": "Python 3"
    },
    "language_info": {
      "name": "python"
    }
  },
  "cells": [
    {
      "cell_type": "markdown",
      "metadata": {
        "id": "view-in-github",
        "colab_type": "text"
      },
      "source": [
        "<a href=\"https://colab.research.google.com/github/KwangHyunNam/huggingFaceLLMCourse/blob/main/1_TRANSFORMER_MODELS.ipynb\" target=\"_parent\"><img src=\"https://colab.research.google.com/assets/colab-badge.svg\" alt=\"Open In Colab\"/></a>"
      ]
    },
    {
      "cell_type": "markdown",
      "source": [
        "# Introduction\n",
        "\n",
        "25.07.04: Completed reading"
      ],
      "metadata": {
        "id": "8ncuXvqNlW4D"
      }
    },
    {
      "cell_type": "markdown",
      "source": [
        "# Natural Language Processing and Large Language Models\n",
        "\n",
        "25.07.04: Viewed video named \"What is NLP?\""
      ],
      "metadata": {
        "id": "HTg63EoaoDcO"
      }
    },
    {
      "cell_type": "markdown",
      "source": [
        "# Transformers, what can they do?"
      ],
      "metadata": {
        "id": "Ygs4wJRgPg5T"
      }
    },
    {
      "cell_type": "markdown",
      "source": [
        "## Working with pieplines"
      ],
      "metadata": {
        "id": "oVH59-xbTL9e"
      }
    },
    {
      "cell_type": "markdown",
      "source": [
        "- The most basic object in the 🤗 Transformers library is the pipeline() function.\n",
        "- There are three main steps involved when you pass some text to a pipeline:\n",
        "  1. The text is preprocessed into a format the model can understand.\n",
        "  2. The preprocessed inputs are passed to the model.\n",
        "  3. The predictions of the model are post-processed, so you can make sense of them."
      ],
      "metadata": {
        "id": "xJlmWrSfTSRf"
      }
    },
    {
      "cell_type": "code",
      "source": [
        "from transformers import pipeline\n",
        "\n",
        "classifier = pipeline(\"sentiment-analysis\")\n",
        "classifier(\"I've been waiting for a HuggingFace course my whole life.\")"
      ],
      "metadata": {
        "id": "MvdxbzvFToo4",
        "outputId": "17d421a3-baa1-4074-b3f1-6ab422c8945e",
        "colab": {
          "base_uri": "https://localhost:8080/"
        }
      },
      "execution_count": 3,
      "outputs": [
        {
          "output_type": "stream",
          "name": "stderr",
          "text": [
            "No model was supplied, defaulted to distilbert/distilbert-base-uncased-finetuned-sst-2-english and revision 714eb0f (https://huggingface.co/distilbert/distilbert-base-uncased-finetuned-sst-2-english).\n",
            "Using a pipeline without specifying a model name and revision in production is not recommended.\n",
            "Device set to use cpu\n"
          ]
        },
        {
          "output_type": "execute_result",
          "data": {
            "text/plain": [
              "[{'label': 'POSITIVE', 'score': 0.9598049521446228}]"
            ]
          },
          "metadata": {},
          "execution_count": 3
        }
      ]
    },
    {
      "cell_type": "code",
      "source": [],
      "metadata": {
        "id": "jSO3ApSuTpIV"
      },
      "execution_count": null,
      "outputs": []
    }
  ]
}